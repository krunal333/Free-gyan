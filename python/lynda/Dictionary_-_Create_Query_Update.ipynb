{
 "cells": [
  {
   "cell_type": "code",
   "execution_count": 94,
   "metadata": {},
   "outputs": [],
   "source": [
    "import requests\n",
    "from pyquery import PyQuery as pq"
   ]
  },
  {
   "cell_type": "code",
   "execution_count": 95,
   "metadata": {},
   "outputs": [],
   "source": [
    "r = requests.get('https://www.coursera.org/search?query=python')\n",
    "d = pq(r.text)"
   ]
  },
  {
   "cell_type": "code",
   "execution_count": 106,
   "metadata": {},
   "outputs": [
    {
     "name": "stdout",
     "output_type": "stream",
     "text": [
      "{'link': 'https://www.coursera.org/specializations/python', 'name': 'Python for Everybody', 'university': 'University of Michigan', 'rating': '4.8', 'rating_count': '159,827', 'enrolled_students': '1.7m', 'level': 'Beginner', 'cover': 'https://d3njjcbhbojbot.cloudfront.net/api/utilities/v1/imageproxy/https://d2j5ihb19pt1hq.cloudfront.net/sdp_page/s12n_logos/python.jpg?auto=format%2Ccompress&dpr=1&w=150&h=150&fit=fill&bg=FFF'}\n",
      "{'link': 'https://www.coursera.org/specializations/python-3-programming', 'name': 'Python 3 Programming', 'university': 'University of Michigan', 'rating': '4.7', 'rating_count': '9,490', 'enrolled_students': '170k', 'level': 'Beginner', 'cover': 'https://d3njjcbhbojbot.cloudfront.net/api/utilities/v1/imageproxy/https://d15cw65ipctsrr.cloudfront.net/be/0ce870e9cb11e8b2d233b4be6a9cf3/pythonfluency_1x1_4.png?auto=format%2Ccompress&dpr=1&w=150&h=150&fit=fill&bg=FFF'}\n",
      "{'link': 'https://www.coursera.org/professional-certificates/ibm-data-science', 'name': 'IBM Data Science', 'university': 'IBM', 'rating': '4.6', 'rating_count': '56,838', 'enrolled_students': '550k', 'level': 'Beginner', 'cover': 'https://d3njjcbhbojbot.cloudfront.net/api/utilities/v1/imageproxy/https://d15cw65ipctsrr.cloudfront.net/ed/4131809fe511e8937a7926bc59e37f/Professional-Certificate---Data-Science---600x600---Blu-Text.png?auto=format%2Ccompress&dpr=1&w=150&h=150&fit=fill&bg=FFF'}\n"
     ]
    },
    {
     "data": {
      "text/plain": [
       "{0: {'link': 'https://www.coursera.org/specializations/python',\n",
       "  'name': 'Python for Everybody',\n",
       "  'university': 'University of Michigan',\n",
       "  'rating': '4.8',\n",
       "  'rating_count': '159,827',\n",
       "  'enrolled_students': '1.7m',\n",
       "  'level': 'Beginner',\n",
       "  'cover': 'https://d3njjcbhbojbot.cloudfront.net/api/utilities/v1/imageproxy/https://d2j5ihb19pt1hq.cloudfront.net/sdp_page/s12n_logos/python.jpg?auto=format%2Ccompress&dpr=1&w=150&h=150&fit=fill&bg=FFF'},\n",
       " 1: {'link': 'https://www.coursera.org/specializations/python-3-programming',\n",
       "  'name': 'Python 3 Programming',\n",
       "  'university': 'University of Michigan',\n",
       "  'rating': '4.7',\n",
       "  'rating_count': '9,490',\n",
       "  'enrolled_students': '170k',\n",
       "  'level': 'Beginner',\n",
       "  'cover': 'https://d3njjcbhbojbot.cloudfront.net/api/utilities/v1/imageproxy/https://d15cw65ipctsrr.cloudfront.net/be/0ce870e9cb11e8b2d233b4be6a9cf3/pythonfluency_1x1_4.png?auto=format%2Ccompress&dpr=1&w=150&h=150&fit=fill&bg=FFF'},\n",
       " 2: {'link': 'https://www.coursera.org/professional-certificates/ibm-data-science',\n",
       "  'name': 'IBM Data Science',\n",
       "  'university': 'IBM',\n",
       "  'rating': '4.6',\n",
       "  'rating_count': '56,838',\n",
       "  'enrolled_students': '550k',\n",
       "  'level': 'Beginner',\n",
       "  'cover': 'https://d3njjcbhbojbot.cloudfront.net/api/utilities/v1/imageproxy/https://d15cw65ipctsrr.cloudfront.net/ed/4131809fe511e8937a7926bc59e37f/Professional-Certificate---Data-Science---600x600---Blu-Text.png?auto=format%2Ccompress&dpr=1&w=150&h=150&fit=fill&bg=FFF'}}"
      ]
     },
     "execution_count": 106,
     "metadata": {},
     "output_type": "execute_result"
    }
   ],
   "source": [
    "courses = {}\n",
    "count = 0\n",
    "for li in d('.ais-InfiniteHits-list li')[:3]:\n",
    "    \n",
    "    course = {}\n",
    "    \n",
    "    course['link'] =  ('https://www.coursera.org' + d(li)('.rc-DesktopSearchCard.anchor-wrapper').attr('href'))\n",
    "    course['name'] =  (d(li)('.color-primary-text.card-title.headline-1-text').text())\n",
    "    course['university'] = (d(li)('.partner-name.m-b-1s').text())\n",
    "    course['rating'] =   (d(li)('.ratings-text').text())\n",
    "    course['rating_count'] =   (d(li)('.ratings-count > span').text())\n",
    "    course['enrolled_students'] =   (d(li)('.enrollment-number').text())\n",
    "    course['level'] =   (d(li)('.difficulty').text()) \n",
    "    course['cover'] =   (d(li)('.image-wrapper img').attr('src'))\n",
    "\n",
    "    print (course)\n",
    "    courses[count] = course\n",
    "    count += 1\n",
    "\n",
    "courses"
   ]
  },
  {
   "cell_type": "code",
   "execution_count": 100,
   "metadata": {},
   "outputs": [
    {
     "name": "stdout",
     "output_type": "stream",
     "text": [
      "{'link': 'https://www.coursera.org/specializations/python', 'name': 'Python for Everybody', 'university': 'University of Michigan', 'rating': '4.8', 'rating_count': '159,827', 'enrolled_students': '1.7m', 'level': 'Beginner', 'cover': 'https://d3njjcbhbojbot.cloudfront.net/api/utilities/v1/imageproxy/https://d2j5ihb19pt1hq.cloudfront.net/sdp_page/s12n_logos/python.jpg?auto=format%2Ccompress&dpr=1&w=150&h=150&fit=fill&bg=FFF'}\n",
      "{'link': 'https://www.coursera.org/specializations/python-3-programming', 'name': 'Python 3 Programming', 'university': 'University of Michigan', 'rating': '4.7', 'rating_count': '9,490', 'enrolled_students': '170k', 'level': 'Beginner', 'cover': 'https://d3njjcbhbojbot.cloudfront.net/api/utilities/v1/imageproxy/https://d15cw65ipctsrr.cloudfront.net/be/0ce870e9cb11e8b2d233b4be6a9cf3/pythonfluency_1x1_4.png?auto=format%2Ccompress&dpr=1&w=150&h=150&fit=fill&bg=FFF'}\n",
      "{'link': 'https://www.coursera.org/professional-certificates/ibm-data-science', 'name': 'IBM Data Science', 'university': 'IBM', 'rating': '4.6', 'rating_count': '56,838', 'enrolled_students': '550k', 'level': 'Beginner', 'cover': 'https://d3njjcbhbojbot.cloudfront.net/api/utilities/v1/imageproxy/https://d15cw65ipctsrr.cloudfront.net/ed/4131809fe511e8937a7926bc59e37f/Professional-Certificate---Data-Science---600x600---Blu-Text.png?auto=format%2Ccompress&dpr=1&w=150&h=150&fit=fill&bg=FFF'}\n"
     ]
    },
    {
     "data": {
      "text/plain": [
       "[{'link': 'https://www.coursera.org/specializations/python',\n",
       "  'name': 'Python for Everybody',\n",
       "  'university': 'University of Michigan',\n",
       "  'rating': '4.8',\n",
       "  'rating_count': '159,827',\n",
       "  'enrolled_students': '1.7m',\n",
       "  'level': 'Beginner',\n",
       "  'cover': 'https://d3njjcbhbojbot.cloudfront.net/api/utilities/v1/imageproxy/https://d2j5ihb19pt1hq.cloudfront.net/sdp_page/s12n_logos/python.jpg?auto=format%2Ccompress&dpr=1&w=150&h=150&fit=fill&bg=FFF'},\n",
       " {'link': 'https://www.coursera.org/specializations/python-3-programming',\n",
       "  'name': 'Python 3 Programming',\n",
       "  'university': 'University of Michigan',\n",
       "  'rating': '4.7',\n",
       "  'rating_count': '9,490',\n",
       "  'enrolled_students': '170k',\n",
       "  'level': 'Beginner',\n",
       "  'cover': 'https://d3njjcbhbojbot.cloudfront.net/api/utilities/v1/imageproxy/https://d15cw65ipctsrr.cloudfront.net/be/0ce870e9cb11e8b2d233b4be6a9cf3/pythonfluency_1x1_4.png?auto=format%2Ccompress&dpr=1&w=150&h=150&fit=fill&bg=FFF'},\n",
       " {'link': 'https://www.coursera.org/professional-certificates/ibm-data-science',\n",
       "  'name': 'IBM Data Science',\n",
       "  'university': 'IBM',\n",
       "  'rating': '4.6',\n",
       "  'rating_count': '56,838',\n",
       "  'enrolled_students': '550k',\n",
       "  'level': 'Beginner',\n",
       "  'cover': 'https://d3njjcbhbojbot.cloudfront.net/api/utilities/v1/imageproxy/https://d15cw65ipctsrr.cloudfront.net/ed/4131809fe511e8937a7926bc59e37f/Professional-Certificate---Data-Science---600x600---Blu-Text.png?auto=format%2Ccompress&dpr=1&w=150&h=150&fit=fill&bg=FFF'}]"
      ]
     },
     "execution_count": 100,
     "metadata": {},
     "output_type": "execute_result"
    }
   ],
   "source": [
    "courses = []\n",
    "\n",
    "for li in d('.ais-InfiniteHits-list li')[:3]:\n",
    "    \n",
    "    course = {}\n",
    "    \n",
    "    course['link'] =  ('https://www.coursera.org' + d(li)('.rc-DesktopSearchCard.anchor-wrapper').attr('href'))\n",
    "    course['name'] =  (d(li)('.color-primary-text.card-title.headline-1-text').text())\n",
    "    course['university'] = (d(li)('.partner-name.m-b-1s').text())\n",
    "    course['rating'] =   (d(li)('.ratings-text').text())\n",
    "    course['rating_count'] =   (d(li)('.ratings-count > span').text())\n",
    "    course['enrolled_students'] =   (d(li)('.enrollment-number').text())\n",
    "    course['level'] =   (d(li)('.difficulty').text()) \n",
    "    course['cover'] =   (d(li)('.image-wrapper img').attr('src'))\n",
    "\n",
    "    print (course)\n",
    "    courses.append(course)\n",
    "\n",
    "courses"
   ]
  },
  {
   "cell_type": "code",
   "execution_count": 101,
   "metadata": {},
   "outputs": [
    {
     "name": "stdout",
     "output_type": "stream",
     "text": [
      "Python for Everybody\n",
      "Python 3 Programming\n",
      "IBM Data Science\n"
     ]
    }
   ],
   "source": [
    "for course in courses:\n",
    "    print (course['name'])"
   ]
  },
  {
   "cell_type": "code",
   "execution_count": 105,
   "metadata": {},
   "outputs": [
    {
     "name": "stdout",
     "output_type": "stream",
     "text": [
      "Python for Everybody\n",
      "Python 3 Programming\n",
      "IBM Data Science\n"
     ]
    }
   ],
   "source": [
    "for i in range(len(courses)):\n",
    "    print (courses[i]['name'])"
   ]
  },
  {
   "cell_type": "code",
   "execution_count": 107,
   "metadata": {},
   "outputs": [
    {
     "data": {
      "text/plain": [
       "'{\"0\": {\"link\": \"https://www.coursera.org/specializations/python\", \"name\": \"Python for Everybody\", \"university\": \"University of Michigan\", \"rating\": \"4.8\", \"rating_count\": \"159,827\", \"enrolled_students\": \"1.7m\", \"level\": \"Beginner\", \"cover\": \"https://d3njjcbhbojbot.cloudfront.net/api/utilities/v1/imageproxy/https://d2j5ihb19pt1hq.cloudfront.net/sdp_page/s12n_logos/python.jpg?auto=format%2Ccompress&dpr=1&w=150&h=150&fit=fill&bg=FFF\"}, \"1\": {\"link\": \"https://www.coursera.org/specializations/python-3-programming\", \"name\": \"Python 3 Programming\", \"university\": \"University of Michigan\", \"rating\": \"4.7\", \"rating_count\": \"9,490\", \"enrolled_students\": \"170k\", \"level\": \"Beginner\", \"cover\": \"https://d3njjcbhbojbot.cloudfront.net/api/utilities/v1/imageproxy/https://d15cw65ipctsrr.cloudfront.net/be/0ce870e9cb11e8b2d233b4be6a9cf3/pythonfluency_1x1_4.png?auto=format%2Ccompress&dpr=1&w=150&h=150&fit=fill&bg=FFF\"}, \"2\": {\"link\": \"https://www.coursera.org/professional-certificates/ibm-data-science\", \"name\": \"IBM Data Science\", \"university\": \"IBM\", \"rating\": \"4.6\", \"rating_count\": \"56,838\", \"enrolled_students\": \"550k\", \"level\": \"Beginner\", \"cover\": \"https://d3njjcbhbojbot.cloudfront.net/api/utilities/v1/imageproxy/https://d15cw65ipctsrr.cloudfront.net/ed/4131809fe511e8937a7926bc59e37f/Professional-Certificate---Data-Science---600x600---Blu-Text.png?auto=format%2Ccompress&dpr=1&w=150&h=150&fit=fill&bg=FFF\"}}'"
      ]
     },
     "execution_count": 107,
     "metadata": {},
     "output_type": "execute_result"
    }
   ],
   "source": [
    "import json\n",
    "json.dumps(courses)"
   ]
  },
  {
   "cell_type": "code",
   "execution_count": null,
   "metadata": {},
   "outputs": [],
   "source": []
  }
 ],
 "metadata": {
  "kernelspec": {
   "display_name": "Python 3",
   "language": "python",
   "name": "python3"
  },
  "language_info": {
   "codemirror_mode": {
    "name": "ipython",
    "version": 3
   },
   "file_extension": ".py",
   "mimetype": "text/x-python",
   "name": "python",
   "nbconvert_exporter": "python",
   "pygments_lexer": "ipython3",
   "version": "3.8.3"
  }
 },
 "nbformat": 4,
 "nbformat_minor": 4
}
