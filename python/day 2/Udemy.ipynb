{
 "cells": [
  {
   "cell_type": "code",
   "execution_count": 1,
   "metadata": {},
   "outputs": [],
   "source": [
    "import requests\n",
    "from pyquery import PyQuery as pq"
   ]
  },
  {
   "cell_type": "code",
   "execution_count": 2,
   "metadata": {},
   "outputs": [],
   "source": [
    "r = requests.get('https://www.udemy.com/courses/search/?q=python')"
   ]
  },
  {
   "cell_type": "code",
   "execution_count": 18,
   "metadata": {},
   "outputs": [],
   "source": [
    "file = open('/Users/jaydeep/jupyter/udemy.html',\"r\")\n",
    "content = file.read()"
   ]
  },
  {
   "cell_type": "code",
   "execution_count": 19,
   "metadata": {},
   "outputs": [],
   "source": [
    "d = pq(content)"
   ]
  },
  {
   "cell_type": "code",
   "execution_count": null,
   "metadata": {},
   "outputs": [],
   "source": [
    "print (r.text)"
   ]
  },
  {
   "cell_type": "code",
   "execution_count": 17,
   "metadata": {},
   "outputs": [
    {
     "name": "stdout",
     "output_type": "stream",
     "text": [
      "20\n"
     ]
    }
   ],
   "source": [
    "c = 0\n",
    "for element in d('.course-list--container--3zXPS > div'):\n",
    "    if d(element).has_class('search--unit-injection--1bANP'):\n",
    "        continue\n",
    "    else:\n",
    "        c+=1\n",
    "print (c)"
   ]
  },
  {
   "cell_type": "code",
   "execution_count": 24,
   "metadata": {},
   "outputs": [
    {
     "data": {
      "text/plain": [
       "[<h2.color-primary-text.card-title.headline-1-text>, <h2.color-primary-text.card-title.headline-1-text>, <h2.color-primary-text.card-title.headline-1-text>, <h2.color-primary-text.card-title.headline-1-text>, <h2.color-primary-text.card-title.headline-1-text>, <h2.color-primary-text.card-title.headline-1-text>, <h2.color-primary-text.card-title.headline-1-text>, <h2.color-primary-text.card-title.headline-1-text>, <h2.color-primary-text.card-title.headline-1-text>, <h2.color-primary-text.card-title.headline-1-text>]"
      ]
     },
     "execution_count": 24,
     "metadata": {},
     "output_type": "execute_result"
    }
   ],
   "source": [
    "d('.color-primary-text.card-title.headline-1-text')"
   ]
  },
  {
   "cell_type": "code",
   "execution_count": 25,
   "metadata": {},
   "outputs": [
    {
     "name": "stdout",
     "output_type": "stream",
     "text": [
      "0\n",
      "1\n",
      "2\n",
      "3\n",
      "4\n",
      "5\n",
      "6\n",
      "7\n",
      "8\n",
      "9\n"
     ]
    }
   ],
   "source": [
    "for i in range(10):\n",
    "    print (i)"
   ]
  },
  {
   "cell_type": "code",
   "execution_count": 80,
   "metadata": {},
   "outputs": [],
   "source": [
    "html = [1,2,3,4,5,6,7,8,9,10]"
   ]
  },
  {
   "cell_type": "code",
   "execution_count": 85,
   "metadata": {
    "scrolled": true
   },
   "outputs": [
    {
     "name": "stdout",
     "output_type": "stream",
     "text": [
      "/specializations/python\n",
      "Python for Everybody\n",
      "University of Michigan\n",
      "4.8\n",
      "158,026\n",
      "1.7m\n",
      "Beginner\n",
      "https://d3njjcbhbojbot.cloudfront.net/api/utilities/v1/imageproxy/https://d2j5ihb19pt1hq.cloudfront.net/sdp_page/s12n_logos/python.jpg?auto=format%2Ccompress&dpr=1&w=150&h=150&fit=fill&bg=FFF\n",
      "/specializations/python\n",
      "/specializations/python\n",
      "-----------------\n",
      "-----------------\n"
     ]
    }
   ],
   "source": [
    "for li in d('.ais-InfiniteHits-list li')[:1]:\n",
    "    print (d(li)('.rc-DesktopSearchCard.anchor-wrapper').attr('href'))\n",
    "    print (d(li)('.color-primary-text.card-title.headline-1-text').text())\n",
    "    print (d(li)('.partner-name.m-b-1s').text())\n",
    "    print (d(li)('.ratings-text').text())\n",
    "    print (d(li)('.ratings-count > span').text())\n",
    "    print (d(li)('.enrollment-number').text())\n",
    "    print (d(li)('.difficulty').text()) \n",
    "    print (d(li)('.image-wrapper img').attr('src'))\n",
    "    \n",
    "    print (pq(li)('.rc-DesktopSearchCard.anchor-wrapper').attr('href'))\n",
    "    print (PyQuery(li)('.rc-DesktopSearchCard.anchor-wrapper').attr('href'))\n",
    "    \n",
    "    print ('-----------------')\n",
    "    print ('-----------------')\n",
    "    skills = []\n",
    "    for skill in d('.skill li'):\n",
    "        skills.append(s(skill).attr('title'))\n",
    "    "
   ]
  },
  {
   "cell_type": "code",
   "execution_count": 66,
   "metadata": {},
   "outputs": [],
   "source": [
    "s = '1.7k'"
   ]
  },
  {
   "cell_type": "code",
   "execution_count": 73,
   "metadata": {},
   "outputs": [
    {
     "name": "stdout",
     "output_type": "stream",
     "text": [
      "True\n"
     ]
    }
   ],
   "source": [
    "print ('k' in s)"
   ]
  },
  {
   "cell_type": "code",
   "execution_count": 81,
   "metadata": {},
   "outputs": [],
   "source": [
    "html.append(11)"
   ]
  },
  {
   "cell_type": "code",
   "execution_count": 82,
   "metadata": {},
   "outputs": [
    {
     "data": {
      "text/plain": [
       "[1, 2, 3, 4, 5, 6, 7, 8, 9, 10, 11]"
      ]
     },
     "execution_count": 82,
     "metadata": {},
     "output_type": "execute_result"
    }
   ],
   "source": [
    "html"
   ]
  }
 ],
 "metadata": {
  "kernelspec": {
   "display_name": "Python 3",
   "language": "python",
   "name": "python3"
  },
  "language_info": {
   "codemirror_mode": {
    "name": "ipython",
    "version": 3
   },
   "file_extension": ".py",
   "mimetype": "text/x-python",
   "name": "python",
   "nbconvert_exporter": "python",
   "pygments_lexer": "ipython3",
   "version": "3.8.1"
  }
 },
 "nbformat": 4,
 "nbformat_minor": 4
}
